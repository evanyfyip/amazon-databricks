{
 "cells": [
  {
   "cell_type": "markdown",
   "metadata": {
    "application/vnd.databricks.v1+cell": {
     "cellMetadata": {},
     "inputWidgets": {},
     "nuid": "c921067b-7c6d-4c4a-8d60-6773064bd890",
     "showTitle": false,
     "title": ""
    }
   },
   "source": [
    "# Query 3\n",
    "Find the number of levels/connections/relationships necessary to travel from one product A with a given group G1 to another product that has a different group G2. Show the chain of products and groups that were traversed until you reached a different group"
   ]
  },
  {
   "cell_type": "code",
   "execution_count": 0,
   "metadata": {
    "application/vnd.databricks.v1+cell": {
     "cellMetadata": {
      "byteLimit": 2048000,
      "rowLimit": 10000
     },
     "inputWidgets": {},
     "nuid": "f3dca7f9-dfe6-4cf6-adac-b373872777db",
     "showTitle": false,
     "title": ""
    }
   },
   "outputs": [],
   "source": [
    "from pyspark.sql.functions import col, rand"
   ]
  },
  {
   "cell_type": "code",
   "execution_count": 0,
   "metadata": {
    "application/vnd.databricks.v1+cell": {
     "cellMetadata": {
      "byteLimit": 2048000,
      "rowLimit": 10000
     },
     "inputWidgets": {},
     "nuid": "a2be413e-374b-4d5e-b804-f00f7edd2272",
     "showTitle": false,
     "title": ""
    }
   },
   "outputs": [],
   "source": [
    "# Extracting nodes\n",
    "product_df = spark.sql('SELECT * FROM products')\n",
    "product_df = product_df.withColumnRenamed('product_id', 'id')\n",
    "\n",
    "# Extracting vertices\n",
    "graph_df = spark.sql('SELECT from_id, to_id FROM graphs')\n",
    "graph_df = graph_df.withColumnRenamed('from_id', 'src')\n",
    "graph_df = graph_df.withColumnRenamed('to_id', 'dst')"
   ]
  },
  {
   "cell_type": "code",
   "execution_count": 0,
   "metadata": {
    "application/vnd.databricks.v1+cell": {
     "cellMetadata": {
      "byteLimit": 2048000,
      "rowLimit": 10000
     },
     "inputWidgets": {},
     "nuid": "5cb9c4ef-d3a2-4d84-bce1-62d44cd7b53a",
     "showTitle": false,
     "title": ""
    }
   },
   "outputs": [],
   "source": [
    "def select_random_product(product_df):\n",
    "    \"\"\"\n",
    "    Select a random row from the product dataframe\n",
    "    and return the product id and group id\n",
    "    \"\"\"\n",
    "    product = product_df.orderBy(rand()).limit(1)\n",
    "    product_id = product.collect()[0]['id']\n",
    "    group_id = product.collect()[0]['group_id']\n",
    "    return product_id, group_id\n",
    "\n",
    "def graph_traversal(product, group, level, traversal_results):\n",
    "    \"\"\"\n",
    "    Traverses a graph starting from a given product and group, and collects traversal results.\n",
    "\n",
    "    Args:\n",
    "        product (str): The starting product.\n",
    "        group (int): The group identifier of the starting product.\n",
    "        level (int): The current level of traversal.\n",
    "        traversal_results (list): A list to store traversal results.\n",
    "\n",
    "    Returns:\n",
    "        None\n",
    "    \"\"\"\n",
    "\n",
    "    # Append the current product, group, and level to the traversal results\n",
    "    traversal_results.append((product, group, level))\n",
    "    \n",
    "    # If the group is not the starting group, return and stop further traversal\n",
    "    if group != start_group:\n",
    "        return\n",
    "\n",
    "    # Get the next products to traverse based on the current product\n",
    "    next_products = (\n",
    "        graph_df.filter(f\"src = '{product}'\")  # Filter edges where the source is the current product\n",
    "        .join(product_df, col(\"dst\") == col(\"id\"))  # Join with product_df on destination ID\n",
    "        .filter(col(\"group_id\") != group)  # Filter out products with the same group\n",
    "        .select(\"id\", \"group_id\")  # Select only the ID and group_id columns\n",
    "        .collect()  # Collect the results as a list of rows\n",
    "    )\n",
    "\n",
    "    # Traverse the next products recursively\n",
    "    for row in next_products:\n",
    "        next_product = row[\"id\"]\n",
    "        next_group = row[\"group_id\"]\n",
    "        graph_traversal(next_product, next_group, level + 1, traversal_results)\n",
    "\n",
    "def print_tree(results):\n",
    "    max_depth = 0\n",
    "    for result in results:\n",
    "        p_id = result[0]\n",
    "        g_id = result[1]\n",
    "        depth = result[2]\n",
    "        if depth > max_depth:\n",
    "            max_depth = depth\n",
    "        indent = \"   \" * depth  # Adjust the number of spaces based on your preference\n",
    "        print(f\"{indent}|- {p_id} ({g_id})\")\n",
    "    print(f\"Levels traveled to reach new group: {max_depth}\")\n",
    "\n",
    "\n",
    "def get_depth_to_new_group_tree(prod_id, group_id):\n",
    "    traversal_results = []\n",
    "    graph_traversal(prod_id, group_id, 0, traversal_results)\n",
    "    print_tree(traversal_results)"
   ]
  },
  {
   "cell_type": "code",
   "execution_count": 0,
   "metadata": {
    "application/vnd.databricks.v1+cell": {
     "cellMetadata": {
      "byteLimit": 2048000,
      "rowLimit": 10000
     },
     "inputWidgets": {},
     "nuid": "5f82a657-22b4-4d07-8b8b-8517b0867a2c",
     "showTitle": false,
     "title": ""
    }
   },
   "outputs": [
    {
     "output_type": "stream",
     "name": "stdout",
     "output_type": "stream",
     "text": [
      "|- pid_439721 (gid_5174)\nLevels traveled to reach new group: 0\n"
     ]
    }
   ],
   "source": [
    "prod_id, group_id = select_random_product(product_df)\n",
    "start_group = group_id\n",
    "get_depth_to_new_group_tree(prod_id, group_id)"
   ]
  },
  {
   "cell_type": "code",
   "execution_count": 0,
   "metadata": {
    "application/vnd.databricks.v1+cell": {
     "cellMetadata": {
      "byteLimit": 2048000,
      "rowLimit": 10000
     },
     "inputWidgets": {},
     "nuid": "c77b7d06-7403-408b-973b-7b0571a5e889",
     "showTitle": false,
     "title": ""
    }
   },
   "outputs": [
    {
     "output_type": "stream",
     "name": "stdout",
     "output_type": "stream",
     "text": [
      "|- pid_63779 (gid_5174)\n   |- pid_73189 (gid_283155)\n   |- pid_56748 (gid_283155)\n   |- pid_55461 (gid_283155)\n   |- pid_63780 (gid_283155)\n   |- pid_10969 (gid_283155)\n   |- pid_32735 (gid_283155)\n   |- pid_903 (gid_283155)\n   |- pid_55763 (gid_283155)\n   |- pid_12057 (gid_283155)\n   |- pid_4206 (gid_283155)\n   |- pid_902 (gid_283155)\n   |- pid_26022 (gid_283155)\n   |- pid_63775 (gid_283155)\n   |- pid_63777 (gid_283155)\n   |- pid_54198 (gid_283155)\n   |- pid_106404 (gid_283155)\n   |- pid_54195 (gid_283155)\n   |- pid_63773 (gid_283155)\n   |- pid_63778 (gid_283155)\n   |- pid_63772 (gid_283155)\n   |- pid_59907 (gid_283155)\n   |- pid_48295 (gid_283155)\n   |- pid_194609 (gid_283155)\n   |- pid_63781 (gid_283155)\n   |- pid_59155 (gid_283155)\n   |- pid_194610 (gid_283155)\n   |- pid_182293 (gid_283155)\n   |- pid_182292 (gid_283155)\n   |- pid_47206 (gid_283155)\nLevels traveled to reach new group: 1\n"
     ]
    }
   ],
   "source": [
    "prod_id = 'pid_63779'\n",
    "group_id = 'gid_5174'\n",
    "start_group = group_id\n",
    "get_depth_to_new_group_tree(prod_id, group_id)"
   ]
  },
  {
   "cell_type": "code",
   "execution_count": 0,
   "metadata": {
    "application/vnd.databricks.v1+cell": {
     "cellMetadata": {},
     "inputWidgets": {},
     "nuid": "bfc07e28-5f93-4132-a6ab-9b0176fa7965",
     "showTitle": false,
     "title": ""
    }
   },
   "outputs": [],
   "source": []
  }
 ],
 "metadata": {
  "application/vnd.databricks.v1+notebook": {
   "dashboards": [],
   "language": "python",
   "notebookMetadata": {
    "mostRecentlyExecutedCommandWithImplicitDF": {
     "commandId": 2464986265555700,
     "dataframes": [
      "_sqldf"
     ]
    },
    "pythonIndentUnit": 4
   },
   "notebookName": "query3",
   "widgets": {}
  }
 },
 "nbformat": 4,
 "nbformat_minor": 0
}
